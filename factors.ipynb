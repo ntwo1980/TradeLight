{
 "cells": [
  {
   "cell_type": "code",
   "execution_count": 29,
   "metadata": {
    "collapsed": false
   },
   "outputs": [
    {
     "data": {
      "text/plain": [
       "pb_ratio_r                                      -0.277\n",
       "ps_ratio_r                                      -0.255\n",
       "pe_ratio_lyr_r                                  -0.140\n",
       "pe_ratio_r                                      -0.135\n",
       "ga_expense_to_total_revenue_r                   -0.115\n",
       "market_cap_r                                    -0.101\n",
       "inc_revenue_year_on_year_r                      -0.090\n",
       "inc_total_revenue_year_on_year_r                -0.088\n",
       "gross_profit_margin_r                           -0.073\n",
       "operating_expense_to_total_revenue_r            -0.072\n",
       "inc_revenue_annual_r                            -0.059\n",
       "inc_total_revenue_annual_r                      -0.059\n",
       "net_profit_margin_r                             -0.054\n",
       "net_profit_to_total_revenue_r                   -0.054\n",
       "circulating_market_cap_r                        -0.053\n",
       "roa_r                                           -0.040\n",
       "operation_profit_to_total_revenue_r             -0.035\n",
       "inc_net_profit_to_shareholders_year_on_year_r   -0.025\n",
       "roe_r                                           -0.024\n",
       "inc_net_profit_year_on_year_r                   -0.022\n",
       "inc_return_r                                    -0.018\n",
       "inc_net_profit_to_shareholders_annual_r         -0.018\n",
       "inc_operation_profit_year_on_year_r             -0.018\n",
       "inc_net_profit_annual_r                         -0.017\n",
       "goods_sale_and_service_to_revenue_r             -0.014\n",
       "inc_operation_profit_annual_r                   -0.014\n",
       "pcf_ratio_r                                     -0.012\n",
       "peg_r                                           -0.005\n",
       "eps_r                                            0.007\n",
       "invesment_profit_to_profit_r                     0.009\n",
       "ocf_to_revenue_r                                 0.012\n",
       "basic_eps_r                                      0.012\n",
       "ocf_to_operating_profit_r                        0.013\n",
       "diluted_eps_r                                    0.017\n",
       "value_change_profit_r                            0.018\n",
       "ci_parent_company_owners_r                       0.023\n",
       "adjusted_profit_to_profit_r                      0.025\n",
       "adjusted_profit_r                                0.025\n",
       "np_parent_company_owners_r                       0.031\n",
       "operating_profit.1_r                             0.033\n",
       "total_composite_income_r                         0.034\n",
       "expense_to_total_revenue_r                       0.036\n",
       "net_profit_r                                     0.040\n",
       "non_operating_revenue_r                          0.042\n",
       "operating_profit_r                               0.043\n",
       "operating_profit_to_profit_r                     0.045\n",
       "asset_impairment_loss_r                          0.045\n",
       "total_profit_r                                   0.047\n",
       "other_receivable_r                               0.052\n",
       "account_receivable_r                             0.053\n",
       "sale_expense_r                                   0.067\n",
       "financing_expense_to_total_revenue_r             0.072\n",
       "cash_equivalents_r                               0.078\n",
       "taxs_payable_r                                   0.083\n",
       "financial_expense_r                              0.084\n",
       "paidin_capital_r                                 0.084\n",
       "income_tax_expense_r                             0.090\n",
       "advance_payment_r                                0.091\n",
       "capital_reserve_fund_r                           0.094\n",
       "advance_peceipts_r                               0.096\n",
       "administration_expense_r                         0.099\n",
       "non_operating_expense_r                          0.110\n",
       "total_current_assets_r                           0.124\n",
       "operating_tax_surcharges_r                       0.126\n",
       "total_non_current_liability_r                    0.128\n",
       "equities_parent_company_owners_r                 0.129\n",
       "salaries_payable_r                               0.129\n",
       "total_owner_equities_r                           0.132\n",
       "total_operating_revenue_r                        0.138\n",
       "operating_revenue_r                              0.138\n",
       "total_liability_r                                0.143\n",
       "total_operating_cost_r                           0.143\n",
       "accounts_payable_r                               0.146\n",
       "total_assets_r                                   0.146\n",
       "total_sheet_owner_equities_r                     0.146\n",
       "retained_profit_r                                0.147\n",
       "operating_cost_r                                 0.147\n",
       "total_current_liability_r                        0.148\n",
       "inventories_r                                    0.151\n",
       "total_non_current_assets_r                       0.157\n",
       "surplus_reserve_fund_r                           0.180\n",
       "fixed_assets_r                                   0.221\n",
       "Name: return, dtype: float64"
      ]
     },
     "execution_count": 29,
     "metadata": {},
     "output_type": "execute_result"
    }
   ],
   "source": [
    "import math\n",
    "import numpy as np\n",
    "import pandas as pd\n",
    "import matplotlib as mpl\n",
    "import matplotlib.pyplot as plt\n",
    "from scipy import stats\n",
    "\n",
    "pd.set_option('display.notebook_repr_html', False)\n",
    "pd.set_option('display.max_rows', 9999) \n",
    "pd.set_option('precision', 3)\n",
    "\n",
    "df = pd.read_csv('data/factors.csv', index_col= ['code'], parse_dates=True)\n",
    "#df[-1:]\n",
    "#df['return'].corr(df[['market_cap', 'inc_revenue_annual_r']])\n",
    "df.corr()['return'][[c for c in df.columns if c.endswith('_r')]].sort_values()"
   ]
  }
 ],
 "metadata": {
  "kernelspec": {
   "display_name": "Python 3",
   "language": "python",
   "name": "python3"
  },
  "language_info": {
   "codemirror_mode": {
    "name": "ipython",
    "version": 3
   },
   "file_extension": ".py",
   "mimetype": "text/x-python",
   "name": "python",
   "nbconvert_exporter": "python",
   "pygments_lexer": "ipython3",
   "version": "3.6.0"
  },
  "toc": {
   "colors": {
    "hover_highlight": "#DAA520",
    "running_highlight": "#FF0000",
    "selected_highlight": "#FFD700"
   },
   "moveMenuLeft": true,
   "nav_menu": {
    "height": "12px",
    "width": "252px"
   },
   "navigate_menu": true,
   "number_sections": true,
   "sideBar": true,
   "threshold": 4,
   "toc_cell": false,
   "toc_section_display": "block",
   "toc_window_display": true
  }
 },
 "nbformat": 4,
 "nbformat_minor": 2
}
