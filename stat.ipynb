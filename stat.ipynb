{
 "cells": [
  {
   "cell_type": "code",
   "execution_count": 5,
   "metadata": {
    "collapsed": false,
    "scrolled": true
   },
   "outputs": [],
   "source": [
    "import math\n",
    "import numpy as np\n",
    "import pandas as pd\n",
    "import matplotlib as mpl\n",
    "import matplotlib.pyplot as plt\n",
    "from scipy import stats\n",
    "\n",
    "pd.set_option('display.notebook_repr_html', False)\n",
    "pd.set_option('display.max_rows', 9999) \n",
    "pd.set_option('precision', 3)\n",
    "pd.options.display.float_format='{:.2f}'.format\n",
    "\n",
    "df1 = pd.read_csv('data/XueQiu_20170411.csv', index_col= ['portfolio', 'code'], names=['portfolio', 'code', 'name', 'industry', 'weight'], parse_dates=True, header=None, encoding='gb18030')\n",
    "df2 = pd.read_csv('data/XueQiu_20170427.csv', index_col= ['portfolio', 'code'], names=['portfolio', 'code', 'name', 'industry', 'weight'], parse_dates=True, header=None, encoding='gb18030')"
   ]
  },
  {
   "cell_type": "code",
   "execution_count": 6,
   "metadata": {
    "collapsed": false,
    "scrolled": false
   },
   "outputs": [
    {
     "data": {
      "text/plain": [
       "       weight1  weight2   diff\n",
       "广联达       0.00    51.56  51.56\n",
       "上海电力      0.00    46.62  46.62\n",
       "晨鸣纸业      0.00    39.96  39.96\n",
       "乐普医疗      0.00    37.76  37.76\n",
       "当升科技      0.00    34.28  34.28\n",
       "宁波银行      0.00    33.56  33.56\n",
       "隆基股份      0.00    32.98  32.98\n",
       "陕西煤业      0.00    31.75  31.75\n",
       "民生银行      0.00    31.24  31.24\n",
       "银华日利    143.93   174.87  30.94\n",
       "亨通光电    144.08   170.43  26.35\n",
       "中国平安    453.36   474.49  21.13\n",
       "招商轮船     34.75    53.38  18.63\n",
       "东方雨虹     30.18    45.35  15.17\n",
       "招商银行    183.35   197.47  14.12\n",
       "兴业银行    226.15   239.87  13.72\n",
       "华域汽车     81.21    92.12  10.91\n",
       "东方园林     32.02    42.67  10.65\n",
       "万华化学    187.85   198.37  10.52\n",
       "金禾实业     32.03    40.85   8.82\n",
       "东阿阿胶    151.35   158.16   6.81\n",
       "中国神华     47.75    54.42   6.67\n",
       "安信信托     30.45    36.73   6.28\n",
       "上汽集团     75.33    80.80   5.47\n",
       "康得新      80.63    84.75   4.12\n",
       "复星医药    205.83   209.50   3.67\n",
       "荣之联      49.89    53.25   3.36\n",
       "云南白药    111.70   114.77   3.07\n",
       "海康威视     67.69    70.23   2.54\n",
       "浙江龙盛     38.25    40.40   2.15\n",
       "海天味业     35.56    37.45   1.89\n",
       "星网锐捷     36.70    38.08   1.38\n",
       "川投能源    121.20   121.80   0.60\n",
       "美的集团    386.76   386.76   0.00\n",
       "H股B      43.45    43.32  -0.13\n",
       "安琪酵母     32.93    32.75  -0.18\n",
       "泸州老窖    134.53   134.18  -0.35\n",
       "北方稀土     38.27    37.29  -0.98\n",
       "双汇发展     68.18    67.15  -1.03\n",
       "科达洁能     34.87    33.52  -1.35\n",
       "建设银行     61.81    60.45  -1.36\n",
       "福耀玻璃    315.41   313.96  -1.45\n",
       "华东医药     35.77    34.03  -1.74\n",
       "康美药业     37.15    35.35  -1.80\n",
       "伊利股份    160.73   158.60  -2.13\n",
       "宇通客车     47.27    44.05  -3.22\n",
       "南京银行     49.28    45.58  -3.70\n",
       "格力电器    648.26   643.06  -5.20\n",
       "中国建筑    175.38   169.73  -5.65\n",
       "五粮液     138.52   132.63  -5.89\n",
       "恒瑞医药    119.45   113.23  -6.22\n",
       "平安银行     58.62    51.15  -7.47\n",
       "伟星新材     75.17    66.31  -8.86\n",
       "贵州茅台    314.61   301.19 -13.42\n",
       "老板电器    131.20   117.30 -13.90\n",
       "恒源煤电     54.28    39.88 -14.40\n",
       "利亚德      50.06    34.47 -15.59\n",
       "长安汽车     99.50    83.38 -16.12\n",
       "长城汽车     92.55    76.18 -16.37\n",
       "国投电力    226.02   207.60 -18.42\n",
       "洋河股份    111.96    91.11 -20.85\n",
       "碧水源      93.06    69.58 -23.48\n",
       "H股ETF   124.50    96.35 -28.15\n",
       "银行B      30.69     0.00 -30.69\n",
       "杰瑞股份     31.84     0.00 -31.84\n",
       "招商蛇口     33.93     0.00 -33.93\n",
       "三聚环保    229.32   194.54 -34.78\n",
       "联创电子     65.25     0.00 -65.25\n",
       "华夏幸福    165.30    65.84 -99.46"
      ]
     },
     "execution_count": 6,
     "metadata": {},
     "output_type": "execute_result"
    }
   ],
   "source": [
    "weight_sum1 = df1.groupby('name')['weight'].sum()\n",
    "weight_sum2 = df2.groupby('name')['weight'].sum()\n",
    "\n",
    "weight_sum1 = weight_sum1[weight_sum1 > 30]\n",
    "weight_sum2 = weight_sum2[weight_sum2 > 30]\n",
    "\n",
    "weight_diff = weight_sum1 - weight_sum2\n",
    "weight_diff.sort_values(ascending=False)\n",
    "\n",
    "df_weigth = pd.DataFrame({'weight1': weight_sum1, 'weight2': weight_sum2})\n",
    "df_weigth.fillna(0, inplace=True)\n",
    "df_weigth['diff'] = df_weigth['weight2'] - df_weigth['weight1']\n",
    "\n",
    "df_weigth.sort_values(by='diff', ascending=False)"
   ]
  }
 ],
 "metadata": {
  "kernelspec": {
   "display_name": "Python 3",
   "language": "python",
   "name": "python3"
  },
  "language_info": {
   "codemirror_mode": {
    "name": "ipython",
    "version": 3
   },
   "file_extension": ".py",
   "mimetype": "text/x-python",
   "name": "python",
   "nbconvert_exporter": "python",
   "pygments_lexer": "ipython3",
   "version": "3.6.0"
  },
  "toc": {
   "colors": {
    "hover_highlight": "#DAA520",
    "running_highlight": "#FF0000",
    "selected_highlight": "#FFD700"
   },
   "moveMenuLeft": true,
   "nav_menu": {
    "height": "12px",
    "width": "252px"
   },
   "navigate_menu": true,
   "number_sections": true,
   "sideBar": true,
   "threshold": 4,
   "toc_cell": false,
   "toc_section_display": "block",
   "toc_window_display": true
  }
 },
 "nbformat": 4,
 "nbformat_minor": 2
}
